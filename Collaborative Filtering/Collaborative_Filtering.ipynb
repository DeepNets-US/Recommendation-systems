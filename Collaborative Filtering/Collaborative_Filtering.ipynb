{
  "nbformat": 4,
  "nbformat_minor": 0,
  "metadata": {
    "colab": {
      "provenance": [],
      "collapsed_sections": [
        "Dsfzw05fbNQK",
        "jj3nCWwIcRls",
        "Hihcd_WMehH2",
        "xN8Kwgouj6Gm",
        "lHyVXnTMpEnZ",
        "byVF6I65sUNT",
        "YftDvIhAxSQY"
      ]
    },
    "kernelspec": {
      "name": "python3",
      "display_name": "Python 3"
    },
    "language_info": {
      "name": "python"
    }
  },
  "cells": [
    {
      "cell_type": "markdown",
      "source": [
        "# **Collaborative Filtering 🤝**"
      ],
      "metadata": {
        "id": "Dsfzw05fbNQK"
      }
    },
    {
      "cell_type": "markdown",
      "source": [
        "**Collaborative filtering** is a technique used in **machine learning** and **recommender systems** to make **predictions or recommendations** about a **user's interests** or **preferences by collecting preferences** or **information from multiple users**. It's based on the idea that people who have **agreed in the past tend to agree again in the future.**\n",
        "\n",
        "There are **two main types of collaborative filtering**:\n",
        "\n",
        "1. **User-based collaborative filtering:** This method identifies **similar users** based on their **preferences and recommends items** that **similar users have liked**.\n",
        " > For instance, if **users A and B** have **similar tastes** and **user A liked an item that user B hasn’t seen yet**, the **system might recommend** that item to **user B**.\n",
        "\n",
        "2. **Item-based collaborative filtering:** Instead of **comparing users**, this approach looks at the **similarities between items themselves**. If a user **likes item X**, the **system will recommend items** that are **similar to item X** based on other **users’ preferences.**\n",
        "\n",
        " > So, if users who liked **item X** also **liked item Y**, the system might **suggest item Y** to someone who liked **item X**.\n",
        "\n",
        "Both methods rely on a **matrix** of **user-item interactions** (like ratings, clicks, purchases, etc.) and use this information to **find patterns** or **similarities** between **users or items**, ultimately **making predictions or recommendations based on those patterns.**\n",
        "\n",
        "However, collaborative filtering has some limitations, such as the cold-start problem (difficulty in providing recommendations for new users or items with limited data) and scalability issues with large datasets. Various techniques like matrix factorization, singular value decomposition (SVD), and deep learning approaches have been developed to address these challenges and improve the accuracy and efficiency of collaborative filtering systems.\n",
        "\n",
        "\n",
        "----\n",
        "\n",
        "Let's delve into an **example of similarity-based collaborative filtering** using a **movie recommendation scenario**. In this case, we'll employ the **user-based collaborative filtering technique**.\n",
        "\n",
        "Consider a **simplified dataset** representing **movie ratings** by users:\n",
        "\n",
        "```\n",
        "User    | Movie A | Movie B | Movie C | Movie D | Movie E\n",
        "-------------------------------------------------------\n",
        "User 1  |   5     |    4    |         |    3    |    2\n",
        "User 2  |         |    5    |    4    |    3    |    4\n",
        "User 3  |   4     |         |    3    |         |    5\n",
        "User 4  |         |    3    |         |    4    |    5\n",
        "User 5  |   2     |    3    |    4    |         |\n",
        "```\n",
        "\n",
        "Here, users have **rated different movies** on a scale of **1 to 5** (blank cells indicate **no rating**). To predict how **User 5** might rate **\"Movie C,\"** we'll employ **user-based collaborative filtering** using **similarity measures** (e.g., **cosine similarity**).\n",
        "\n",
        "### Steps:\n",
        "\n",
        "1. **Compute Similarity:**\n",
        "   - Calculate similarity between User 5 and other users (1, 2, 3, 4) based on their ratings for common movies.\n",
        "   - Using cosine similarity, let's assume User 1 and User 3 are most similar to User 5.\n",
        "\n",
        "2. **Predict Rating:**\n",
        "   - Weight the ratings of User 1 and User 3 for \"Movie C\" based on their similarity to User 5.\n",
        "   - Suppose User 1 rated \"Movie C\" with a score of 4 and User 3 rated it with a score of 3.\n",
        "   \n",
        "3. **Combine Ratings:**\n",
        "   - Combine these ratings, weighted by the similarity scores between User 5 and Users 1 & 3.\n",
        "   - A weighted combination might yield a predicted rating of 3.5 for \"Movie C\" by User 5.\n",
        "\n",
        "This process is a **simplistic representation** of **similarity-based collaborative filtering**, where predictions for a **user's preferences** or **ratings** for **unrated items** are made by considering the **preferences of similar users**. In practice, more **sophisticated algorithms** and **larger datasets** are used for **accurate predictions and recommendations.**\n",
        "\n",
        "Other approaches like **item-based collaborative filtering** involve **calculating similarity between items rather than users**, and they **function similarly** but on a **different axis—predicting** how much a user might like an **item based on their previous ratings of similar items.**\n",
        "\n",
        "By leveraging these **similarity-based techniques**, **recommendation systems** can **offer personalized suggestions**, enhancing **user experiences** across **various domains**."
      ],
      "metadata": {
        "id": "DXu02cCBbXDf"
      }
    },
    {
      "cell_type": "markdown",
      "source": [
        "# **Environmental Setup 🌏**"
      ],
      "metadata": {
        "id": "jj3nCWwIcRls"
      }
    },
    {
      "cell_type": "markdown",
      "source": [
        "Prepare for the creation of a **movie recommendation** system using **collaborative filtering**. To begin, we'll utilize **Python libraries** like **Pandas** for **data handling and NumPy for numerical operations**.\n",
        "\n",
        "Setting **constants, hyperparameters**, and **ensuring reproducibility** through controlled **randomness** will establish a **robust foundation** for **our analysis**."
      ],
      "metadata": {
        "id": "59b_wATkcZXS"
      }
    },
    {
      "cell_type": "code",
      "execution_count": 1,
      "metadata": {
        "id": "CaOFGEyjaSpe"
      },
      "outputs": [],
      "source": [
        "# Common Imports\n",
        "import numpy as np\n",
        "\n",
        "# Data Imports\n",
        "import pandas as pd\n",
        "\n",
        "# Data visualization\n",
        "import plotly.express as px\n",
        "\n",
        "# Cosine Similarity Computation\n",
        "from sklearn.metrics.pairwise import cosine_similarity"
      ]
    },
    {
      "cell_type": "code",
      "source": [
        "# Setting the seed to the magic number\n",
        "np.random.seed(42)"
      ],
      "metadata": {
        "id": "Gm4bnsRBebQy"
      },
      "execution_count": 2,
      "outputs": []
    },
    {
      "cell_type": "markdown",
      "source": [
        "# **Data Loading & exploration ⏬**"
      ],
      "metadata": {
        "id": "Hihcd_WMehH2"
      }
    },
    {
      "cell_type": "markdown",
      "source": [
        "Data serves as **the backbone of collaborative filtering**, forming the **cornerstone for our recommendation system**.\n",
        "\n",
        "This section prioritizes the meticulous process of **data loading**, aiming to provide a **comprehensive understanding of the dataset's structure** and **characteristics**. Our focus lies in initiating this phase by **loading the dataset**, followed by a **descriptive overview that emphasizes a statistical exploration—providing insights into the dataset's composition, layout, and essential attributes**.\n",
        "\n",
        "This phase doesn't entail an in-depth statistical analysis but rather aims to offer a preliminary understanding of the **data's nature**, facilitating **subsequent stages** of our **collaborative filtering model development**."
      ],
      "metadata": {
        "id": "XM-9mw9Setvx"
      }
    },
    {
      "cell_type": "code",
      "source": [
        "# Set the file path\n",
        "file_path = \"./ratings_small.csv\"\n",
        "\n",
        "# Load the data\n",
        "df = pd.read_csv(file_path)\n",
        "\n",
        "# Remove unnecessart feature\n",
        "df.drop(columns = ['timestamp'], inplace = True)\n",
        "\n",
        "# Quick look at the data\n",
        "df.head()"
      ],
      "metadata": {
        "colab": {
          "base_uri": "https://localhost:8080/",
          "height": 0
        },
        "id": "mcXzPfihefpO",
        "outputId": "45b1a485-8041-47fd-8709-5af6222092e5"
      },
      "execution_count": 4,
      "outputs": [
        {
          "output_type": "execute_result",
          "data": {
            "text/plain": [
              "   userId  movieId  rating\n",
              "0       1       31     2.5\n",
              "1       1     1029     3.0\n",
              "2       1     1061     3.0\n",
              "3       1     1129     2.0\n",
              "4       1     1172     4.0"
            ],
            "text/html": [
              "\n",
              "  <div id=\"df-98edfac7-18d0-4826-a052-c87f987489d9\" class=\"colab-df-container\">\n",
              "    <div>\n",
              "<style scoped>\n",
              "    .dataframe tbody tr th:only-of-type {\n",
              "        vertical-align: middle;\n",
              "    }\n",
              "\n",
              "    .dataframe tbody tr th {\n",
              "        vertical-align: top;\n",
              "    }\n",
              "\n",
              "    .dataframe thead th {\n",
              "        text-align: right;\n",
              "    }\n",
              "</style>\n",
              "<table border=\"1\" class=\"dataframe\">\n",
              "  <thead>\n",
              "    <tr style=\"text-align: right;\">\n",
              "      <th></th>\n",
              "      <th>userId</th>\n",
              "      <th>movieId</th>\n",
              "      <th>rating</th>\n",
              "    </tr>\n",
              "  </thead>\n",
              "  <tbody>\n",
              "    <tr>\n",
              "      <th>0</th>\n",
              "      <td>1</td>\n",
              "      <td>31</td>\n",
              "      <td>2.5</td>\n",
              "    </tr>\n",
              "    <tr>\n",
              "      <th>1</th>\n",
              "      <td>1</td>\n",
              "      <td>1029</td>\n",
              "      <td>3.0</td>\n",
              "    </tr>\n",
              "    <tr>\n",
              "      <th>2</th>\n",
              "      <td>1</td>\n",
              "      <td>1061</td>\n",
              "      <td>3.0</td>\n",
              "    </tr>\n",
              "    <tr>\n",
              "      <th>3</th>\n",
              "      <td>1</td>\n",
              "      <td>1129</td>\n",
              "      <td>2.0</td>\n",
              "    </tr>\n",
              "    <tr>\n",
              "      <th>4</th>\n",
              "      <td>1</td>\n",
              "      <td>1172</td>\n",
              "      <td>4.0</td>\n",
              "    </tr>\n",
              "  </tbody>\n",
              "</table>\n",
              "</div>\n",
              "    <div class=\"colab-df-buttons\">\n",
              "\n",
              "  <div class=\"colab-df-container\">\n",
              "    <button class=\"colab-df-convert\" onclick=\"convertToInteractive('df-98edfac7-18d0-4826-a052-c87f987489d9')\"\n",
              "            title=\"Convert this dataframe to an interactive table.\"\n",
              "            style=\"display:none;\">\n",
              "\n",
              "  <svg xmlns=\"http://www.w3.org/2000/svg\" height=\"24px\" viewBox=\"0 -960 960 960\">\n",
              "    <path d=\"M120-120v-720h720v720H120Zm60-500h600v-160H180v160Zm220 220h160v-160H400v160Zm0 220h160v-160H400v160ZM180-400h160v-160H180v160Zm440 0h160v-160H620v160ZM180-180h160v-160H180v160Zm440 0h160v-160H620v160Z\"/>\n",
              "  </svg>\n",
              "    </button>\n",
              "\n",
              "  <style>\n",
              "    .colab-df-container {\n",
              "      display:flex;\n",
              "      gap: 12px;\n",
              "    }\n",
              "\n",
              "    .colab-df-convert {\n",
              "      background-color: #E8F0FE;\n",
              "      border: none;\n",
              "      border-radius: 50%;\n",
              "      cursor: pointer;\n",
              "      display: none;\n",
              "      fill: #1967D2;\n",
              "      height: 32px;\n",
              "      padding: 0 0 0 0;\n",
              "      width: 32px;\n",
              "    }\n",
              "\n",
              "    .colab-df-convert:hover {\n",
              "      background-color: #E2EBFA;\n",
              "      box-shadow: 0px 1px 2px rgba(60, 64, 67, 0.3), 0px 1px 3px 1px rgba(60, 64, 67, 0.15);\n",
              "      fill: #174EA6;\n",
              "    }\n",
              "\n",
              "    .colab-df-buttons div {\n",
              "      margin-bottom: 4px;\n",
              "    }\n",
              "\n",
              "    [theme=dark] .colab-df-convert {\n",
              "      background-color: #3B4455;\n",
              "      fill: #D2E3FC;\n",
              "    }\n",
              "\n",
              "    [theme=dark] .colab-df-convert:hover {\n",
              "      background-color: #434B5C;\n",
              "      box-shadow: 0px 1px 3px 1px rgba(0, 0, 0, 0.15);\n",
              "      filter: drop-shadow(0px 1px 2px rgba(0, 0, 0, 0.3));\n",
              "      fill: #FFFFFF;\n",
              "    }\n",
              "  </style>\n",
              "\n",
              "    <script>\n",
              "      const buttonEl =\n",
              "        document.querySelector('#df-98edfac7-18d0-4826-a052-c87f987489d9 button.colab-df-convert');\n",
              "      buttonEl.style.display =\n",
              "        google.colab.kernel.accessAllowed ? 'block' : 'none';\n",
              "\n",
              "      async function convertToInteractive(key) {\n",
              "        const element = document.querySelector('#df-98edfac7-18d0-4826-a052-c87f987489d9');\n",
              "        const dataTable =\n",
              "          await google.colab.kernel.invokeFunction('convertToInteractive',\n",
              "                                                    [key], {});\n",
              "        if (!dataTable) return;\n",
              "\n",
              "        const docLinkHtml = 'Like what you see? Visit the ' +\n",
              "          '<a target=\"_blank\" href=https://colab.research.google.com/notebooks/data_table.ipynb>data table notebook</a>'\n",
              "          + ' to learn more about interactive tables.';\n",
              "        element.innerHTML = '';\n",
              "        dataTable['output_type'] = 'display_data';\n",
              "        await google.colab.output.renderOutput(dataTable, element);\n",
              "        const docLink = document.createElement('div');\n",
              "        docLink.innerHTML = docLinkHtml;\n",
              "        element.appendChild(docLink);\n",
              "      }\n",
              "    </script>\n",
              "  </div>\n",
              "\n",
              "\n",
              "<div id=\"df-1318e28d-2090-48f3-b740-85cac2422b92\">\n",
              "  <button class=\"colab-df-quickchart\" onclick=\"quickchart('df-1318e28d-2090-48f3-b740-85cac2422b92')\"\n",
              "            title=\"Suggest charts\"\n",
              "            style=\"display:none;\">\n",
              "\n",
              "<svg xmlns=\"http://www.w3.org/2000/svg\" height=\"24px\"viewBox=\"0 0 24 24\"\n",
              "     width=\"24px\">\n",
              "    <g>\n",
              "        <path d=\"M19 3H5c-1.1 0-2 .9-2 2v14c0 1.1.9 2 2 2h14c1.1 0 2-.9 2-2V5c0-1.1-.9-2-2-2zM9 17H7v-7h2v7zm4 0h-2V7h2v10zm4 0h-2v-4h2v4z\"/>\n",
              "    </g>\n",
              "</svg>\n",
              "  </button>\n",
              "\n",
              "<style>\n",
              "  .colab-df-quickchart {\n",
              "      --bg-color: #E8F0FE;\n",
              "      --fill-color: #1967D2;\n",
              "      --hover-bg-color: #E2EBFA;\n",
              "      --hover-fill-color: #174EA6;\n",
              "      --disabled-fill-color: #AAA;\n",
              "      --disabled-bg-color: #DDD;\n",
              "  }\n",
              "\n",
              "  [theme=dark] .colab-df-quickchart {\n",
              "      --bg-color: #3B4455;\n",
              "      --fill-color: #D2E3FC;\n",
              "      --hover-bg-color: #434B5C;\n",
              "      --hover-fill-color: #FFFFFF;\n",
              "      --disabled-bg-color: #3B4455;\n",
              "      --disabled-fill-color: #666;\n",
              "  }\n",
              "\n",
              "  .colab-df-quickchart {\n",
              "    background-color: var(--bg-color);\n",
              "    border: none;\n",
              "    border-radius: 50%;\n",
              "    cursor: pointer;\n",
              "    display: none;\n",
              "    fill: var(--fill-color);\n",
              "    height: 32px;\n",
              "    padding: 0;\n",
              "    width: 32px;\n",
              "  }\n",
              "\n",
              "  .colab-df-quickchart:hover {\n",
              "    background-color: var(--hover-bg-color);\n",
              "    box-shadow: 0 1px 2px rgba(60, 64, 67, 0.3), 0 1px 3px 1px rgba(60, 64, 67, 0.15);\n",
              "    fill: var(--button-hover-fill-color);\n",
              "  }\n",
              "\n",
              "  .colab-df-quickchart-complete:disabled,\n",
              "  .colab-df-quickchart-complete:disabled:hover {\n",
              "    background-color: var(--disabled-bg-color);\n",
              "    fill: var(--disabled-fill-color);\n",
              "    box-shadow: none;\n",
              "  }\n",
              "\n",
              "  .colab-df-spinner {\n",
              "    border: 2px solid var(--fill-color);\n",
              "    border-color: transparent;\n",
              "    border-bottom-color: var(--fill-color);\n",
              "    animation:\n",
              "      spin 1s steps(1) infinite;\n",
              "  }\n",
              "\n",
              "  @keyframes spin {\n",
              "    0% {\n",
              "      border-color: transparent;\n",
              "      border-bottom-color: var(--fill-color);\n",
              "      border-left-color: var(--fill-color);\n",
              "    }\n",
              "    20% {\n",
              "      border-color: transparent;\n",
              "      border-left-color: var(--fill-color);\n",
              "      border-top-color: var(--fill-color);\n",
              "    }\n",
              "    30% {\n",
              "      border-color: transparent;\n",
              "      border-left-color: var(--fill-color);\n",
              "      border-top-color: var(--fill-color);\n",
              "      border-right-color: var(--fill-color);\n",
              "    }\n",
              "    40% {\n",
              "      border-color: transparent;\n",
              "      border-right-color: var(--fill-color);\n",
              "      border-top-color: var(--fill-color);\n",
              "    }\n",
              "    60% {\n",
              "      border-color: transparent;\n",
              "      border-right-color: var(--fill-color);\n",
              "    }\n",
              "    80% {\n",
              "      border-color: transparent;\n",
              "      border-right-color: var(--fill-color);\n",
              "      border-bottom-color: var(--fill-color);\n",
              "    }\n",
              "    90% {\n",
              "      border-color: transparent;\n",
              "      border-bottom-color: var(--fill-color);\n",
              "    }\n",
              "  }\n",
              "</style>\n",
              "\n",
              "  <script>\n",
              "    async function quickchart(key) {\n",
              "      const quickchartButtonEl =\n",
              "        document.querySelector('#' + key + ' button');\n",
              "      quickchartButtonEl.disabled = true;  // To prevent multiple clicks.\n",
              "      quickchartButtonEl.classList.add('colab-df-spinner');\n",
              "      try {\n",
              "        const charts = await google.colab.kernel.invokeFunction(\n",
              "            'suggestCharts', [key], {});\n",
              "      } catch (error) {\n",
              "        console.error('Error during call to suggestCharts:', error);\n",
              "      }\n",
              "      quickchartButtonEl.classList.remove('colab-df-spinner');\n",
              "      quickchartButtonEl.classList.add('colab-df-quickchart-complete');\n",
              "    }\n",
              "    (() => {\n",
              "      let quickchartButtonEl =\n",
              "        document.querySelector('#df-1318e28d-2090-48f3-b740-85cac2422b92 button');\n",
              "      quickchartButtonEl.style.display =\n",
              "        google.colab.kernel.accessAllowed ? 'block' : 'none';\n",
              "    })();\n",
              "  </script>\n",
              "</div>\n",
              "    </div>\n",
              "  </div>\n"
            ]
          },
          "metadata": {},
          "execution_count": 4
        }
      ]
    },
    {
      "cell_type": "code",
      "source": [
        "# Collect the data information\n",
        "feature_names = df.columns\n",
        "\n",
        "print(f\"Total number of features: {len(feature_names)}\")"
      ],
      "metadata": {
        "colab": {
          "base_uri": "https://localhost:8080/"
        },
        "id": "fGy7qznjfOOx",
        "outputId": "1cc04674-5721-40cf-cf26-3c63ac1fdf19"
      },
      "execution_count": 5,
      "outputs": [
        {
          "output_type": "stream",
          "name": "stdout",
          "text": [
            "Total number of features: 3\n"
          ]
        }
      ]
    },
    {
      "cell_type": "markdown",
      "source": [
        "The dataset comprises **three key attributes**: the **user ID**, representing **individual users**; the **movie ID**, **uniquely identifying each movie**; and the **user-assigned rating** for a **given movie**.\n",
        "\n",
        "These elements form **the essential components** defining our dataset, pivotal for **collaborative filtering** and **recommendation system construction.**"
      ],
      "metadata": {
        "id": "IYry3RdhfnbA"
      }
    },
    {
      "cell_type": "code",
      "source": [
        "# Check for the presence of null values\n",
        "df.isnull().sum()"
      ],
      "metadata": {
        "colab": {
          "base_uri": "https://localhost:8080/"
        },
        "id": "7TODP9TOfmd0",
        "outputId": "9c3290c0-1232-4b4f-dcd4-73144d1c45c9"
      },
      "execution_count": 6,
      "outputs": [
        {
          "output_type": "execute_result",
          "data": {
            "text/plain": [
              "userId     0\n",
              "movieId    0\n",
              "rating     0\n",
              "dtype: int64"
            ]
          },
          "metadata": {},
          "execution_count": 6
        }
      ]
    },
    {
      "cell_type": "markdown",
      "source": [
        "Fortunately, **the dataset** is **devoid** of **any null values**, sparing us the **need for imputation**. This **absence of missing data** allows us to **bypass the imputation process entirely**, enabling us to **seamlessly proceed with subsequent data operations** and **analyses without interruption.**"
      ],
      "metadata": {
        "id": "twi1RtXKgEQz"
      }
    },
    {
      "cell_type": "code",
      "source": [
        "# Calculate the total number of data points\n",
        "n_samples = df.shape[0]\n",
        "\n",
        "print(f\"Total number of samples: {n_samples}\")"
      ],
      "metadata": {
        "colab": {
          "base_uri": "https://localhost:8080/"
        },
        "id": "mD4BazYaf_Zq",
        "outputId": "dd7d56ec-a460-42e1-a7d2-507b10ce05ca"
      },
      "execution_count": 7,
      "outputs": [
        {
          "output_type": "stream",
          "name": "stdout",
          "text": [
            "Total number of samples: 100004\n"
          ]
        }
      ]
    },
    {
      "cell_type": "markdown",
      "source": [
        "In totality, our dataset comprises an **impressive count** of **data samples** or **data points**, tallying up to **100,004 entries.** This **substantial volume of data** sets a **solid foundation**, **promising precise and accurate results** in the **development and implementation of our recommendation system and collaborative filtering techniques**.\n",
        "\n",
        "This extensive dataset bodes well for **fostering robust** and **reliable outcomes** in our analysis and **modeling endeavors**."
      ],
      "metadata": {
        "id": "8umSBcVkggsZ"
      }
    },
    {
      "cell_type": "code",
      "source": [
        "df.userId.value_counts()"
      ],
      "metadata": {
        "colab": {
          "base_uri": "https://localhost:8080/"
        },
        "id": "slujpOuojs5d",
        "outputId": "5835935a-581c-40cd-cb28-10b715d3620c"
      },
      "execution_count": 8,
      "outputs": [
        {
          "output_type": "execute_result",
          "data": {
            "text/plain": [
              "547    2391\n",
              "564    1868\n",
              "624    1735\n",
              "15     1700\n",
              "73     1610\n",
              "       ... \n",
              "296      20\n",
              "289      20\n",
              "249      20\n",
              "221      20\n",
              "1        20\n",
              "Name: userId, Length: 671, dtype: int64"
            ]
          },
          "metadata": {},
          "execution_count": 8
        }
      ]
    },
    {
      "cell_type": "markdown",
      "source": [
        "The **dataset boasts 671 distinct users identified by their user IDs**. While this **count appears relatively modest** considering our **substantial volume of 100,004 data samples**, it illuminates an **intriguing aspect**: a varied distribution in the **number of reviews per user**.\n",
        "\n",
        "Observing this **disparity—ranging from users contributing 20 reviews to others surpassing 2000+ or more**—highlights a **diverse representation** within our **dataset**. Although the **user count may seem lower than anticipated** considering the **overall data volume**, the **existing diversity** is **promising for our analyses**.\n",
        "\n",
        "Despite the potential for **more unique users**, the **dataset's substantial size** already offers a **comprehensive and diverse representation,** affording a **robust foundation for our subsequent data processes.**"
      ],
      "metadata": {
        "id": "7amWBRxjg_Hw"
      }
    },
    {
      "cell_type": "code",
      "source": [
        "# Total number of unique movies\n",
        "n_unique_movies = len(df.movieId.unique())\n",
        "\n",
        "print(f\"Number of unique movies: {n_unique_movies}\")"
      ],
      "metadata": {
        "colab": {
          "base_uri": "https://localhost:8080/"
        },
        "id": "pB4z0a_xhgVD",
        "outputId": "954d9d7c-d6b2-4073-e7fe-84b08b3a7910"
      },
      "execution_count": 9,
      "outputs": [
        {
          "output_type": "stream",
          "name": "stdout",
          "text": [
            "Number of unique movies: 9066\n"
          ]
        }
      ]
    },
    {
      "cell_type": "markdown",
      "source": [
        "The dataset comprises **9,066 unique movies**, a **seemingly moderate count at first glance**. However, this **actually aligns quite well** with **the principles of collaborative filtering and recommendation systems.**\n",
        "\n",
        "These systems **hinge on understanding the user-item relationships**, where **similarities between user preferences dictate recommendations**. Having a **relatively low count of unique movies facilitates** this process. When **multiple users share a preference for specific movies**, the system can **accurately recommend those items to others with similar tastes**.\n",
        "\n",
        "Despite the **vastness of the dataset**, this **ample collection of movies not only aids in comprehensive analyses** but also **reinforces the robustness** of our **recommendation system**.\n",
        "\n",
        "The **extensive pool of unique movies enriches** our understanding of **user-item associations**, contributing significantly to the **accuracy and reliability of our collaborative filtering approach.**"
      ],
      "metadata": {
        "id": "yRVybbITh_Mn"
      }
    },
    {
      "cell_type": "markdown",
      "source": [
        "# **Data Analysis 📊**"
      ],
      "metadata": {
        "id": "xN8Kwgouj6Gm"
      }
    },
    {
      "cell_type": "markdown",
      "source": [
        "In the **prior section**, our exploration delved into the **mathematical and quantitative aspects of the dataset**. Now, we'll pivot towards analyzing the dataset from a **visual standpoint**, seeking insights through **graphical representations** and **visual properties inherent in the data**."
      ],
      "metadata": {
        "id": "R48JfkWFkBg0"
      }
    },
    {
      "cell_type": "code",
      "source": [
        "data = df.userId.value_counts()\n",
        "\n",
        "# Visualization for the user interactions\n",
        "fig = px.histogram(\n",
        "    data,\n",
        "    title = \"Histogram of Users Interactions\"\n",
        ")\n",
        "fig.update_layout(\n",
        "    xaxis_title = \"User\",\n",
        "    yaxis_title = \"User Interactions\"\n",
        ")\n",
        "fig.show()"
      ],
      "metadata": {
        "colab": {
          "base_uri": "https://localhost:8080/",
          "height": 0
        },
        "id": "zKyeFCcTh94h",
        "outputId": "936c20c6-7fb3-43de-bccc-3892a982dac1"
      },
      "execution_count": 10,
      "outputs": [
        {
          "output_type": "display_data",
          "data": {
            "text/html": [
              "<html>\n",
              "<head><meta charset=\"utf-8\" /></head>\n",
              "<body>\n",
              "    <div>            <script src=\"https://cdnjs.cloudflare.com/ajax/libs/mathjax/2.7.5/MathJax.js?config=TeX-AMS-MML_SVG\"></script><script type=\"text/javascript\">if (window.MathJax && window.MathJax.Hub && window.MathJax.Hub.Config) {window.MathJax.Hub.Config({SVG: {font: \"STIX-Web\"}});}</script>                <script type=\"text/javascript\">window.PlotlyConfig = {MathJaxConfig: 'local'};</script>\n",
              "        <script charset=\"utf-8\" src=\"https://cdn.plot.ly/plotly-2.24.1.min.js\"></script>                <div id=\"f922a6e6-a978-4426-b60f-fe2bf3b870f7\" class=\"plotly-graph-div\" style=\"height:525px; width:100%;\"></div>            <script type=\"text/javascript\">                                    window.PLOTLYENV=window.PLOTLYENV || {};                                    if (document.getElementById(\"f922a6e6-a978-4426-b60f-fe2bf3b870f7\")) {                    Plotly.newPlot(                        \"f922a6e6-a978-4426-b60f-fe2bf3b870f7\",                        [{\"alignmentgroup\":\"True\",\"bingroup\":\"x\",\"hovertemplate\":\"variable=userId\\u003cbr\\u003evalue=%{x}\\u003cbr\\u003ecount=%{y}\\u003cextra\\u003e\\u003c\\u002fextra\\u003e\",\"legendgroup\":\"userId\",\"marker\":{\"color\":\"#636efa\",\"pattern\":{\"shape\":\"\"}},\"name\":\"userId\",\"offsetgroup\":\"userId\",\"orientation\":\"v\",\"showlegend\":true,\"x\":[2391,1868,1735,1700,1610,1340,1291,1063,1019,1011,947,923,922,910,876,830,792,726,713,707,696,682,678,676,655,645,641,626,617,604,547,525,522,521,519,513,504,487,487,485,485,483,437,436,434,427,423,422,422,413,412,400,399,395,385,378,376,375,367,363,347,342,341,329,326,324,323,323,319,315,314,312,311,308,307,307,305,303,302,300,299,296,296,294,291,289,285,284,284,279,279,278,268,268,267,263,260,256,256,255,254,254,253,253,250,249,236,231,230,229,225,224,224,223,222,220,219,219,218,217,216,216,215,214,214,210,209,206,205,205,204,204,203,202,202,201,201,199,198,196,194,193,192,192,191,190,189,189,188,187,187,183,178,177,176,172,172,170,169,168,168,166,166,163,163,162,161,161,161,160,160,159,158,155,155,154,153,152,151,150,150,150,149,148,147,145,145,142,141,141,140,140,140,139,138,138,138,138,138,138,138,138,135,135,133,132,132,131,130,129,129,128,128,128,128,127,127,126,126,125,125,123,123,122,121,120,120,120,119,119,119,116,116,116,115,115,114,114,113,113,113,113,111,110,110,110,109,107,107,106,105,105,105,104,104,103,103,103,100,100,100,100,100,99,99,99,99,99,99,98,98,97,95,95,94,94,94,92,92,92,91,90,90,89,88,88,88,87,87,87,86,85,85,85,85,84,83,82,82,82,82,81,81,81,81,81,80,80,79,78,78,78,77,76,76,76,76,76,76,75,75,75,75,75,75,75,74,74,74,73,73,73,72,72,72,71,71,70,70,70,70,69,69,68,68,68,67,67,67,66,66,66,66,65,64,64,64,64,64,63,63,63,63,63,62,62,62,62,61,61,61,60,60,60,60,59,59,59,59,59,58,58,58,58,57,57,57,56,56,55,55,55,55,55,55,55,55,55,54,54,53,53,53,53,53,53,52,52,52,52,51,51,51,51,51,51,51,51,51,51,51,50,50,50,50,50,50,49,49,49,49,49,48,48,48,48,47,46,46,46,46,46,46,46,46,46,45,45,45,45,44,44,44,44,44,44,43,43,43,43,43,42,42,42,42,41,41,41,41,41,41,40,40,40,40,40,40,40,39,39,39,39,39,39,39,39,39,39,38,38,38,38,38,38,38,38,38,38,38,38,38,37,37,37,37,36,36,36,36,36,35,35,35,34,34,34,34,34,34,34,33,33,33,33,33,33,33,32,32,32,32,32,32,32,31,31,31,31,31,31,31,31,31,31,31,31,30,30,30,30,30,30,30,29,29,29,29,29,28,28,28,27,27,27,27,27,27,27,27,27,27,27,26,26,26,26,26,26,26,26,26,25,25,25,25,25,25,25,25,25,25,25,25,25,25,24,24,24,24,24,24,24,24,24,23,23,23,23,23,23,23,23,23,23,22,22,22,22,22,22,22,22,22,22,22,22,22,22,22,21,21,21,21,21,21,21,21,21,21,21,21,21,21,20,20,20,20,20,20,20,20,20,20,20,20,20,20,20,20,20,20,20,20,20,20,20,20,20,20,20,20],\"xaxis\":\"x\",\"yaxis\":\"y\",\"type\":\"histogram\"}],                        {\"template\":{\"data\":{\"histogram2dcontour\":[{\"type\":\"histogram2dcontour\",\"colorbar\":{\"outlinewidth\":0,\"ticks\":\"\"},\"colorscale\":[[0.0,\"#0d0887\"],[0.1111111111111111,\"#46039f\"],[0.2222222222222222,\"#7201a8\"],[0.3333333333333333,\"#9c179e\"],[0.4444444444444444,\"#bd3786\"],[0.5555555555555556,\"#d8576b\"],[0.6666666666666666,\"#ed7953\"],[0.7777777777777778,\"#fb9f3a\"],[0.8888888888888888,\"#fdca26\"],[1.0,\"#f0f921\"]]}],\"choropleth\":[{\"type\":\"choropleth\",\"colorbar\":{\"outlinewidth\":0,\"ticks\":\"\"}}],\"histogram2d\":[{\"type\":\"histogram2d\",\"colorbar\":{\"outlinewidth\":0,\"ticks\":\"\"},\"colorscale\":[[0.0,\"#0d0887\"],[0.1111111111111111,\"#46039f\"],[0.2222222222222222,\"#7201a8\"],[0.3333333333333333,\"#9c179e\"],[0.4444444444444444,\"#bd3786\"],[0.5555555555555556,\"#d8576b\"],[0.6666666666666666,\"#ed7953\"],[0.7777777777777778,\"#fb9f3a\"],[0.8888888888888888,\"#fdca26\"],[1.0,\"#f0f921\"]]}],\"heatmap\":[{\"type\":\"heatmap\",\"colorbar\":{\"outlinewidth\":0,\"ticks\":\"\"},\"colorscale\":[[0.0,\"#0d0887\"],[0.1111111111111111,\"#46039f\"],[0.2222222222222222,\"#7201a8\"],[0.3333333333333333,\"#9c179e\"],[0.4444444444444444,\"#bd3786\"],[0.5555555555555556,\"#d8576b\"],[0.6666666666666666,\"#ed7953\"],[0.7777777777777778,\"#fb9f3a\"],[0.8888888888888888,\"#fdca26\"],[1.0,\"#f0f921\"]]}],\"heatmapgl\":[{\"type\":\"heatmapgl\",\"colorbar\":{\"outlinewidth\":0,\"ticks\":\"\"},\"colorscale\":[[0.0,\"#0d0887\"],[0.1111111111111111,\"#46039f\"],[0.2222222222222222,\"#7201a8\"],[0.3333333333333333,\"#9c179e\"],[0.4444444444444444,\"#bd3786\"],[0.5555555555555556,\"#d8576b\"],[0.6666666666666666,\"#ed7953\"],[0.7777777777777778,\"#fb9f3a\"],[0.8888888888888888,\"#fdca26\"],[1.0,\"#f0f921\"]]}],\"contourcarpet\":[{\"type\":\"contourcarpet\",\"colorbar\":{\"outlinewidth\":0,\"ticks\":\"\"}}],\"contour\":[{\"type\":\"contour\",\"colorbar\":{\"outlinewidth\":0,\"ticks\":\"\"},\"colorscale\":[[0.0,\"#0d0887\"],[0.1111111111111111,\"#46039f\"],[0.2222222222222222,\"#7201a8\"],[0.3333333333333333,\"#9c179e\"],[0.4444444444444444,\"#bd3786\"],[0.5555555555555556,\"#d8576b\"],[0.6666666666666666,\"#ed7953\"],[0.7777777777777778,\"#fb9f3a\"],[0.8888888888888888,\"#fdca26\"],[1.0,\"#f0f921\"]]}],\"surface\":[{\"type\":\"surface\",\"colorbar\":{\"outlinewidth\":0,\"ticks\":\"\"},\"colorscale\":[[0.0,\"#0d0887\"],[0.1111111111111111,\"#46039f\"],[0.2222222222222222,\"#7201a8\"],[0.3333333333333333,\"#9c179e\"],[0.4444444444444444,\"#bd3786\"],[0.5555555555555556,\"#d8576b\"],[0.6666666666666666,\"#ed7953\"],[0.7777777777777778,\"#fb9f3a\"],[0.8888888888888888,\"#fdca26\"],[1.0,\"#f0f921\"]]}],\"mesh3d\":[{\"type\":\"mesh3d\",\"colorbar\":{\"outlinewidth\":0,\"ticks\":\"\"}}],\"scatter\":[{\"fillpattern\":{\"fillmode\":\"overlay\",\"size\":10,\"solidity\":0.2},\"type\":\"scatter\"}],\"parcoords\":[{\"type\":\"parcoords\",\"line\":{\"colorbar\":{\"outlinewidth\":0,\"ticks\":\"\"}}}],\"scatterpolargl\":[{\"type\":\"scatterpolargl\",\"marker\":{\"colorbar\":{\"outlinewidth\":0,\"ticks\":\"\"}}}],\"bar\":[{\"error_x\":{\"color\":\"#2a3f5f\"},\"error_y\":{\"color\":\"#2a3f5f\"},\"marker\":{\"line\":{\"color\":\"#E5ECF6\",\"width\":0.5},\"pattern\":{\"fillmode\":\"overlay\",\"size\":10,\"solidity\":0.2}},\"type\":\"bar\"}],\"scattergeo\":[{\"type\":\"scattergeo\",\"marker\":{\"colorbar\":{\"outlinewidth\":0,\"ticks\":\"\"}}}],\"scatterpolar\":[{\"type\":\"scatterpolar\",\"marker\":{\"colorbar\":{\"outlinewidth\":0,\"ticks\":\"\"}}}],\"histogram\":[{\"marker\":{\"pattern\":{\"fillmode\":\"overlay\",\"size\":10,\"solidity\":0.2}},\"type\":\"histogram\"}],\"scattergl\":[{\"type\":\"scattergl\",\"marker\":{\"colorbar\":{\"outlinewidth\":0,\"ticks\":\"\"}}}],\"scatter3d\":[{\"type\":\"scatter3d\",\"line\":{\"colorbar\":{\"outlinewidth\":0,\"ticks\":\"\"}},\"marker\":{\"colorbar\":{\"outlinewidth\":0,\"ticks\":\"\"}}}],\"scattermapbox\":[{\"type\":\"scattermapbox\",\"marker\":{\"colorbar\":{\"outlinewidth\":0,\"ticks\":\"\"}}}],\"scatterternary\":[{\"type\":\"scatterternary\",\"marker\":{\"colorbar\":{\"outlinewidth\":0,\"ticks\":\"\"}}}],\"scattercarpet\":[{\"type\":\"scattercarpet\",\"marker\":{\"colorbar\":{\"outlinewidth\":0,\"ticks\":\"\"}}}],\"carpet\":[{\"aaxis\":{\"endlinecolor\":\"#2a3f5f\",\"gridcolor\":\"white\",\"linecolor\":\"white\",\"minorgridcolor\":\"white\",\"startlinecolor\":\"#2a3f5f\"},\"baxis\":{\"endlinecolor\":\"#2a3f5f\",\"gridcolor\":\"white\",\"linecolor\":\"white\",\"minorgridcolor\":\"white\",\"startlinecolor\":\"#2a3f5f\"},\"type\":\"carpet\"}],\"table\":[{\"cells\":{\"fill\":{\"color\":\"#EBF0F8\"},\"line\":{\"color\":\"white\"}},\"header\":{\"fill\":{\"color\":\"#C8D4E3\"},\"line\":{\"color\":\"white\"}},\"type\":\"table\"}],\"barpolar\":[{\"marker\":{\"line\":{\"color\":\"#E5ECF6\",\"width\":0.5},\"pattern\":{\"fillmode\":\"overlay\",\"size\":10,\"solidity\":0.2}},\"type\":\"barpolar\"}],\"pie\":[{\"automargin\":true,\"type\":\"pie\"}]},\"layout\":{\"autotypenumbers\":\"strict\",\"colorway\":[\"#636efa\",\"#EF553B\",\"#00cc96\",\"#ab63fa\",\"#FFA15A\",\"#19d3f3\",\"#FF6692\",\"#B6E880\",\"#FF97FF\",\"#FECB52\"],\"font\":{\"color\":\"#2a3f5f\"},\"hovermode\":\"closest\",\"hoverlabel\":{\"align\":\"left\"},\"paper_bgcolor\":\"white\",\"plot_bgcolor\":\"#E5ECF6\",\"polar\":{\"bgcolor\":\"#E5ECF6\",\"angularaxis\":{\"gridcolor\":\"white\",\"linecolor\":\"white\",\"ticks\":\"\"},\"radialaxis\":{\"gridcolor\":\"white\",\"linecolor\":\"white\",\"ticks\":\"\"}},\"ternary\":{\"bgcolor\":\"#E5ECF6\",\"aaxis\":{\"gridcolor\":\"white\",\"linecolor\":\"white\",\"ticks\":\"\"},\"baxis\":{\"gridcolor\":\"white\",\"linecolor\":\"white\",\"ticks\":\"\"},\"caxis\":{\"gridcolor\":\"white\",\"linecolor\":\"white\",\"ticks\":\"\"}},\"coloraxis\":{\"colorbar\":{\"outlinewidth\":0,\"ticks\":\"\"}},\"colorscale\":{\"sequential\":[[0.0,\"#0d0887\"],[0.1111111111111111,\"#46039f\"],[0.2222222222222222,\"#7201a8\"],[0.3333333333333333,\"#9c179e\"],[0.4444444444444444,\"#bd3786\"],[0.5555555555555556,\"#d8576b\"],[0.6666666666666666,\"#ed7953\"],[0.7777777777777778,\"#fb9f3a\"],[0.8888888888888888,\"#fdca26\"],[1.0,\"#f0f921\"]],\"sequentialminus\":[[0.0,\"#0d0887\"],[0.1111111111111111,\"#46039f\"],[0.2222222222222222,\"#7201a8\"],[0.3333333333333333,\"#9c179e\"],[0.4444444444444444,\"#bd3786\"],[0.5555555555555556,\"#d8576b\"],[0.6666666666666666,\"#ed7953\"],[0.7777777777777778,\"#fb9f3a\"],[0.8888888888888888,\"#fdca26\"],[1.0,\"#f0f921\"]],\"diverging\":[[0,\"#8e0152\"],[0.1,\"#c51b7d\"],[0.2,\"#de77ae\"],[0.3,\"#f1b6da\"],[0.4,\"#fde0ef\"],[0.5,\"#f7f7f7\"],[0.6,\"#e6f5d0\"],[0.7,\"#b8e186\"],[0.8,\"#7fbc41\"],[0.9,\"#4d9221\"],[1,\"#276419\"]]},\"xaxis\":{\"gridcolor\":\"white\",\"linecolor\":\"white\",\"ticks\":\"\",\"title\":{\"standoff\":15},\"zerolinecolor\":\"white\",\"automargin\":true,\"zerolinewidth\":2},\"yaxis\":{\"gridcolor\":\"white\",\"linecolor\":\"white\",\"ticks\":\"\",\"title\":{\"standoff\":15},\"zerolinecolor\":\"white\",\"automargin\":true,\"zerolinewidth\":2},\"scene\":{\"xaxis\":{\"backgroundcolor\":\"#E5ECF6\",\"gridcolor\":\"white\",\"linecolor\":\"white\",\"showbackground\":true,\"ticks\":\"\",\"zerolinecolor\":\"white\",\"gridwidth\":2},\"yaxis\":{\"backgroundcolor\":\"#E5ECF6\",\"gridcolor\":\"white\",\"linecolor\":\"white\",\"showbackground\":true,\"ticks\":\"\",\"zerolinecolor\":\"white\",\"gridwidth\":2},\"zaxis\":{\"backgroundcolor\":\"#E5ECF6\",\"gridcolor\":\"white\",\"linecolor\":\"white\",\"showbackground\":true,\"ticks\":\"\",\"zerolinecolor\":\"white\",\"gridwidth\":2}},\"shapedefaults\":{\"line\":{\"color\":\"#2a3f5f\"}},\"annotationdefaults\":{\"arrowcolor\":\"#2a3f5f\",\"arrowhead\":0,\"arrowwidth\":1},\"geo\":{\"bgcolor\":\"white\",\"landcolor\":\"#E5ECF6\",\"subunitcolor\":\"white\",\"showland\":true,\"showlakes\":true,\"lakecolor\":\"white\"},\"title\":{\"x\":0.05},\"mapbox\":{\"style\":\"light\"}}},\"xaxis\":{\"anchor\":\"y\",\"domain\":[0.0,1.0],\"title\":{\"text\":\"User\"}},\"yaxis\":{\"anchor\":\"x\",\"domain\":[0.0,1.0],\"title\":{\"text\":\"User Interactions\"}},\"legend\":{\"title\":{\"text\":\"variable\"},\"tracegroupgap\":0},\"title\":{\"text\":\"Histogram of Users Interactions\"},\"barmode\":\"relative\"},                        {\"responsive\": true}                    ).then(function(){\n",
              "                            \n",
              "var gd = document.getElementById('f922a6e6-a978-4426-b60f-fe2bf3b870f7');\n",
              "var x = new MutationObserver(function (mutations, observer) {{\n",
              "        var display = window.getComputedStyle(gd).display;\n",
              "        if (!display || display === 'none') {{\n",
              "            console.log([gd, 'removed!']);\n",
              "            Plotly.purge(gd);\n",
              "            observer.disconnect();\n",
              "        }}\n",
              "}});\n",
              "\n",
              "// Listen for the removal of the full notebook cells\n",
              "var notebookContainer = gd.closest('#notebook-container');\n",
              "if (notebookContainer) {{\n",
              "    x.observe(notebookContainer, {childList: true});\n",
              "}}\n",
              "\n",
              "// Listen for the clearing of the current output cell\n",
              "var outputEl = gd.closest('.output');\n",
              "if (outputEl) {{\n",
              "    x.observe(outputEl, {childList: true});\n",
              "}}\n",
              "\n",
              "                        })                };                            </script>        </div>\n",
              "</body>\n",
              "</html>"
            ]
          },
          "metadata": {}
        }
      ]
    },
    {
      "cell_type": "markdown",
      "source": [
        "The **histogram vividly illustrates** a notable trend: a majority of users have interacted with a **limited number of movies**, indicating a **narrower range of preferences**. This observation bodes well for the **recommendation system**, as it suggests that **many users might benefit** from **diverse recommendations**.\n",
        "\n",
        "However, contrasting this trend, there's a **distinct subset** of users who've **significantly engaged** with an **extensive catalog of movies**, exceeding **2000 interactions**. Although the number of such users is **extremely low**."
      ],
      "metadata": {
        "id": "Q-rgUgxXoWMH"
      }
    },
    {
      "cell_type": "markdown",
      "source": [
        "# **User - Item Matrix 🌟**"
      ],
      "metadata": {
        "id": "lHyVXnTMpEnZ"
      }
    },
    {
      "cell_type": "code",
      "source": [
        "# Matrix for the user item interaction (User-item matrix)\n",
        "interaction_matrix = df.pivot(index='userId', columns='movieId', values='rating')\n",
        "\n",
        "interaction_matrix.shape"
      ],
      "metadata": {
        "colab": {
          "base_uri": "https://localhost:8080/"
        },
        "id": "Q52ht1GjlJdO",
        "outputId": "b2511e55-f2ad-4d8b-bd3b-cb270e7ca5ff"
      },
      "execution_count": 11,
      "outputs": [
        {
          "output_type": "execute_result",
          "data": {
            "text/plain": [
              "(671, 9066)"
            ]
          },
          "metadata": {},
          "execution_count": 11
        }
      ]
    },
    {
      "cell_type": "markdown",
      "source": [
        "The shape of the **interaction matrix** is **671 x 9066**. Which makes sense because we had **671 users** and **9066 movie.**"
      ],
      "metadata": {
        "id": "irsWm5yKqLtG"
      }
    },
    {
      "cell_type": "code",
      "source": [
        "# Quick look at the interaction matrix\n",
        "interaction_matrix.head()"
      ],
      "metadata": {
        "colab": {
          "base_uri": "https://localhost:8080/",
          "height": 0
        },
        "id": "qnNWxkrsm3KA",
        "outputId": "90d938a4-f442-4369-d6c0-80d418644969"
      },
      "execution_count": 12,
      "outputs": [
        {
          "output_type": "execute_result",
          "data": {
            "text/plain": [
              "movieId  1       2       3       4       5       6       7       8       \\\n",
              "userId                                                                    \n",
              "1           NaN     NaN     NaN     NaN     NaN     NaN     NaN     NaN   \n",
              "2           NaN     NaN     NaN     NaN     NaN     NaN     NaN     NaN   \n",
              "3           NaN     NaN     NaN     NaN     NaN     NaN     NaN     NaN   \n",
              "4           NaN     NaN     NaN     NaN     NaN     NaN     NaN     NaN   \n",
              "5           NaN     NaN     4.0     NaN     NaN     NaN     NaN     NaN   \n",
              "\n",
              "movieId  9       10      ...  161084  161155  161594  161830  161918  161944  \\\n",
              "userId                   ...                                                   \n",
              "1           NaN     NaN  ...     NaN     NaN     NaN     NaN     NaN     NaN   \n",
              "2           NaN     4.0  ...     NaN     NaN     NaN     NaN     NaN     NaN   \n",
              "3           NaN     NaN  ...     NaN     NaN     NaN     NaN     NaN     NaN   \n",
              "4           NaN     4.0  ...     NaN     NaN     NaN     NaN     NaN     NaN   \n",
              "5           NaN     NaN  ...     NaN     NaN     NaN     NaN     NaN     NaN   \n",
              "\n",
              "movieId  162376  162542  162672  163949  \n",
              "userId                                   \n",
              "1           NaN     NaN     NaN     NaN  \n",
              "2           NaN     NaN     NaN     NaN  \n",
              "3           NaN     NaN     NaN     NaN  \n",
              "4           NaN     NaN     NaN     NaN  \n",
              "5           NaN     NaN     NaN     NaN  \n",
              "\n",
              "[5 rows x 9066 columns]"
            ],
            "text/html": [
              "\n",
              "  <div id=\"df-47cece65-32d7-4c08-bc0a-5cd9af9c9340\" class=\"colab-df-container\">\n",
              "    <div>\n",
              "<style scoped>\n",
              "    .dataframe tbody tr th:only-of-type {\n",
              "        vertical-align: middle;\n",
              "    }\n",
              "\n",
              "    .dataframe tbody tr th {\n",
              "        vertical-align: top;\n",
              "    }\n",
              "\n",
              "    .dataframe thead th {\n",
              "        text-align: right;\n",
              "    }\n",
              "</style>\n",
              "<table border=\"1\" class=\"dataframe\">\n",
              "  <thead>\n",
              "    <tr style=\"text-align: right;\">\n",
              "      <th>movieId</th>\n",
              "      <th>1</th>\n",
              "      <th>2</th>\n",
              "      <th>3</th>\n",
              "      <th>4</th>\n",
              "      <th>5</th>\n",
              "      <th>6</th>\n",
              "      <th>7</th>\n",
              "      <th>8</th>\n",
              "      <th>9</th>\n",
              "      <th>10</th>\n",
              "      <th>...</th>\n",
              "      <th>161084</th>\n",
              "      <th>161155</th>\n",
              "      <th>161594</th>\n",
              "      <th>161830</th>\n",
              "      <th>161918</th>\n",
              "      <th>161944</th>\n",
              "      <th>162376</th>\n",
              "      <th>162542</th>\n",
              "      <th>162672</th>\n",
              "      <th>163949</th>\n",
              "    </tr>\n",
              "    <tr>\n",
              "      <th>userId</th>\n",
              "      <th></th>\n",
              "      <th></th>\n",
              "      <th></th>\n",
              "      <th></th>\n",
              "      <th></th>\n",
              "      <th></th>\n",
              "      <th></th>\n",
              "      <th></th>\n",
              "      <th></th>\n",
              "      <th></th>\n",
              "      <th></th>\n",
              "      <th></th>\n",
              "      <th></th>\n",
              "      <th></th>\n",
              "      <th></th>\n",
              "      <th></th>\n",
              "      <th></th>\n",
              "      <th></th>\n",
              "      <th></th>\n",
              "      <th></th>\n",
              "      <th></th>\n",
              "    </tr>\n",
              "  </thead>\n",
              "  <tbody>\n",
              "    <tr>\n",
              "      <th>1</th>\n",
              "      <td>NaN</td>\n",
              "      <td>NaN</td>\n",
              "      <td>NaN</td>\n",
              "      <td>NaN</td>\n",
              "      <td>NaN</td>\n",
              "      <td>NaN</td>\n",
              "      <td>NaN</td>\n",
              "      <td>NaN</td>\n",
              "      <td>NaN</td>\n",
              "      <td>NaN</td>\n",
              "      <td>...</td>\n",
              "      <td>NaN</td>\n",
              "      <td>NaN</td>\n",
              "      <td>NaN</td>\n",
              "      <td>NaN</td>\n",
              "      <td>NaN</td>\n",
              "      <td>NaN</td>\n",
              "      <td>NaN</td>\n",
              "      <td>NaN</td>\n",
              "      <td>NaN</td>\n",
              "      <td>NaN</td>\n",
              "    </tr>\n",
              "    <tr>\n",
              "      <th>2</th>\n",
              "      <td>NaN</td>\n",
              "      <td>NaN</td>\n",
              "      <td>NaN</td>\n",
              "      <td>NaN</td>\n",
              "      <td>NaN</td>\n",
              "      <td>NaN</td>\n",
              "      <td>NaN</td>\n",
              "      <td>NaN</td>\n",
              "      <td>NaN</td>\n",
              "      <td>4.0</td>\n",
              "      <td>...</td>\n",
              "      <td>NaN</td>\n",
              "      <td>NaN</td>\n",
              "      <td>NaN</td>\n",
              "      <td>NaN</td>\n",
              "      <td>NaN</td>\n",
              "      <td>NaN</td>\n",
              "      <td>NaN</td>\n",
              "      <td>NaN</td>\n",
              "      <td>NaN</td>\n",
              "      <td>NaN</td>\n",
              "    </tr>\n",
              "    <tr>\n",
              "      <th>3</th>\n",
              "      <td>NaN</td>\n",
              "      <td>NaN</td>\n",
              "      <td>NaN</td>\n",
              "      <td>NaN</td>\n",
              "      <td>NaN</td>\n",
              "      <td>NaN</td>\n",
              "      <td>NaN</td>\n",
              "      <td>NaN</td>\n",
              "      <td>NaN</td>\n",
              "      <td>NaN</td>\n",
              "      <td>...</td>\n",
              "      <td>NaN</td>\n",
              "      <td>NaN</td>\n",
              "      <td>NaN</td>\n",
              "      <td>NaN</td>\n",
              "      <td>NaN</td>\n",
              "      <td>NaN</td>\n",
              "      <td>NaN</td>\n",
              "      <td>NaN</td>\n",
              "      <td>NaN</td>\n",
              "      <td>NaN</td>\n",
              "    </tr>\n",
              "    <tr>\n",
              "      <th>4</th>\n",
              "      <td>NaN</td>\n",
              "      <td>NaN</td>\n",
              "      <td>NaN</td>\n",
              "      <td>NaN</td>\n",
              "      <td>NaN</td>\n",
              "      <td>NaN</td>\n",
              "      <td>NaN</td>\n",
              "      <td>NaN</td>\n",
              "      <td>NaN</td>\n",
              "      <td>4.0</td>\n",
              "      <td>...</td>\n",
              "      <td>NaN</td>\n",
              "      <td>NaN</td>\n",
              "      <td>NaN</td>\n",
              "      <td>NaN</td>\n",
              "      <td>NaN</td>\n",
              "      <td>NaN</td>\n",
              "      <td>NaN</td>\n",
              "      <td>NaN</td>\n",
              "      <td>NaN</td>\n",
              "      <td>NaN</td>\n",
              "    </tr>\n",
              "    <tr>\n",
              "      <th>5</th>\n",
              "      <td>NaN</td>\n",
              "      <td>NaN</td>\n",
              "      <td>4.0</td>\n",
              "      <td>NaN</td>\n",
              "      <td>NaN</td>\n",
              "      <td>NaN</td>\n",
              "      <td>NaN</td>\n",
              "      <td>NaN</td>\n",
              "      <td>NaN</td>\n",
              "      <td>NaN</td>\n",
              "      <td>...</td>\n",
              "      <td>NaN</td>\n",
              "      <td>NaN</td>\n",
              "      <td>NaN</td>\n",
              "      <td>NaN</td>\n",
              "      <td>NaN</td>\n",
              "      <td>NaN</td>\n",
              "      <td>NaN</td>\n",
              "      <td>NaN</td>\n",
              "      <td>NaN</td>\n",
              "      <td>NaN</td>\n",
              "    </tr>\n",
              "  </tbody>\n",
              "</table>\n",
              "<p>5 rows × 9066 columns</p>\n",
              "</div>\n",
              "    <div class=\"colab-df-buttons\">\n",
              "\n",
              "  <div class=\"colab-df-container\">\n",
              "    <button class=\"colab-df-convert\" onclick=\"convertToInteractive('df-47cece65-32d7-4c08-bc0a-5cd9af9c9340')\"\n",
              "            title=\"Convert this dataframe to an interactive table.\"\n",
              "            style=\"display:none;\">\n",
              "\n",
              "  <svg xmlns=\"http://www.w3.org/2000/svg\" height=\"24px\" viewBox=\"0 -960 960 960\">\n",
              "    <path d=\"M120-120v-720h720v720H120Zm60-500h600v-160H180v160Zm220 220h160v-160H400v160Zm0 220h160v-160H400v160ZM180-400h160v-160H180v160Zm440 0h160v-160H620v160ZM180-180h160v-160H180v160Zm440 0h160v-160H620v160Z\"/>\n",
              "  </svg>\n",
              "    </button>\n",
              "\n",
              "  <style>\n",
              "    .colab-df-container {\n",
              "      display:flex;\n",
              "      gap: 12px;\n",
              "    }\n",
              "\n",
              "    .colab-df-convert {\n",
              "      background-color: #E8F0FE;\n",
              "      border: none;\n",
              "      border-radius: 50%;\n",
              "      cursor: pointer;\n",
              "      display: none;\n",
              "      fill: #1967D2;\n",
              "      height: 32px;\n",
              "      padding: 0 0 0 0;\n",
              "      width: 32px;\n",
              "    }\n",
              "\n",
              "    .colab-df-convert:hover {\n",
              "      background-color: #E2EBFA;\n",
              "      box-shadow: 0px 1px 2px rgba(60, 64, 67, 0.3), 0px 1px 3px 1px rgba(60, 64, 67, 0.15);\n",
              "      fill: #174EA6;\n",
              "    }\n",
              "\n",
              "    .colab-df-buttons div {\n",
              "      margin-bottom: 4px;\n",
              "    }\n",
              "\n",
              "    [theme=dark] .colab-df-convert {\n",
              "      background-color: #3B4455;\n",
              "      fill: #D2E3FC;\n",
              "    }\n",
              "\n",
              "    [theme=dark] .colab-df-convert:hover {\n",
              "      background-color: #434B5C;\n",
              "      box-shadow: 0px 1px 3px 1px rgba(0, 0, 0, 0.15);\n",
              "      filter: drop-shadow(0px 1px 2px rgba(0, 0, 0, 0.3));\n",
              "      fill: #FFFFFF;\n",
              "    }\n",
              "  </style>\n",
              "\n",
              "    <script>\n",
              "      const buttonEl =\n",
              "        document.querySelector('#df-47cece65-32d7-4c08-bc0a-5cd9af9c9340 button.colab-df-convert');\n",
              "      buttonEl.style.display =\n",
              "        google.colab.kernel.accessAllowed ? 'block' : 'none';\n",
              "\n",
              "      async function convertToInteractive(key) {\n",
              "        const element = document.querySelector('#df-47cece65-32d7-4c08-bc0a-5cd9af9c9340');\n",
              "        const dataTable =\n",
              "          await google.colab.kernel.invokeFunction('convertToInteractive',\n",
              "                                                    [key], {});\n",
              "        if (!dataTable) return;\n",
              "\n",
              "        const docLinkHtml = 'Like what you see? Visit the ' +\n",
              "          '<a target=\"_blank\" href=https://colab.research.google.com/notebooks/data_table.ipynb>data table notebook</a>'\n",
              "          + ' to learn more about interactive tables.';\n",
              "        element.innerHTML = '';\n",
              "        dataTable['output_type'] = 'display_data';\n",
              "        await google.colab.output.renderOutput(dataTable, element);\n",
              "        const docLink = document.createElement('div');\n",
              "        docLink.innerHTML = docLinkHtml;\n",
              "        element.appendChild(docLink);\n",
              "      }\n",
              "    </script>\n",
              "  </div>\n",
              "\n",
              "\n",
              "<div id=\"df-da96b59f-dc4d-4655-b055-9ddf33a9bd81\">\n",
              "  <button class=\"colab-df-quickchart\" onclick=\"quickchart('df-da96b59f-dc4d-4655-b055-9ddf33a9bd81')\"\n",
              "            title=\"Suggest charts\"\n",
              "            style=\"display:none;\">\n",
              "\n",
              "<svg xmlns=\"http://www.w3.org/2000/svg\" height=\"24px\"viewBox=\"0 0 24 24\"\n",
              "     width=\"24px\">\n",
              "    <g>\n",
              "        <path d=\"M19 3H5c-1.1 0-2 .9-2 2v14c0 1.1.9 2 2 2h14c1.1 0 2-.9 2-2V5c0-1.1-.9-2-2-2zM9 17H7v-7h2v7zm4 0h-2V7h2v10zm4 0h-2v-4h2v4z\"/>\n",
              "    </g>\n",
              "</svg>\n",
              "  </button>\n",
              "\n",
              "<style>\n",
              "  .colab-df-quickchart {\n",
              "      --bg-color: #E8F0FE;\n",
              "      --fill-color: #1967D2;\n",
              "      --hover-bg-color: #E2EBFA;\n",
              "      --hover-fill-color: #174EA6;\n",
              "      --disabled-fill-color: #AAA;\n",
              "      --disabled-bg-color: #DDD;\n",
              "  }\n",
              "\n",
              "  [theme=dark] .colab-df-quickchart {\n",
              "      --bg-color: #3B4455;\n",
              "      --fill-color: #D2E3FC;\n",
              "      --hover-bg-color: #434B5C;\n",
              "      --hover-fill-color: #FFFFFF;\n",
              "      --disabled-bg-color: #3B4455;\n",
              "      --disabled-fill-color: #666;\n",
              "  }\n",
              "\n",
              "  .colab-df-quickchart {\n",
              "    background-color: var(--bg-color);\n",
              "    border: none;\n",
              "    border-radius: 50%;\n",
              "    cursor: pointer;\n",
              "    display: none;\n",
              "    fill: var(--fill-color);\n",
              "    height: 32px;\n",
              "    padding: 0;\n",
              "    width: 32px;\n",
              "  }\n",
              "\n",
              "  .colab-df-quickchart:hover {\n",
              "    background-color: var(--hover-bg-color);\n",
              "    box-shadow: 0 1px 2px rgba(60, 64, 67, 0.3), 0 1px 3px 1px rgba(60, 64, 67, 0.15);\n",
              "    fill: var(--button-hover-fill-color);\n",
              "  }\n",
              "\n",
              "  .colab-df-quickchart-complete:disabled,\n",
              "  .colab-df-quickchart-complete:disabled:hover {\n",
              "    background-color: var(--disabled-bg-color);\n",
              "    fill: var(--disabled-fill-color);\n",
              "    box-shadow: none;\n",
              "  }\n",
              "\n",
              "  .colab-df-spinner {\n",
              "    border: 2px solid var(--fill-color);\n",
              "    border-color: transparent;\n",
              "    border-bottom-color: var(--fill-color);\n",
              "    animation:\n",
              "      spin 1s steps(1) infinite;\n",
              "  }\n",
              "\n",
              "  @keyframes spin {\n",
              "    0% {\n",
              "      border-color: transparent;\n",
              "      border-bottom-color: var(--fill-color);\n",
              "      border-left-color: var(--fill-color);\n",
              "    }\n",
              "    20% {\n",
              "      border-color: transparent;\n",
              "      border-left-color: var(--fill-color);\n",
              "      border-top-color: var(--fill-color);\n",
              "    }\n",
              "    30% {\n",
              "      border-color: transparent;\n",
              "      border-left-color: var(--fill-color);\n",
              "      border-top-color: var(--fill-color);\n",
              "      border-right-color: var(--fill-color);\n",
              "    }\n",
              "    40% {\n",
              "      border-color: transparent;\n",
              "      border-right-color: var(--fill-color);\n",
              "      border-top-color: var(--fill-color);\n",
              "    }\n",
              "    60% {\n",
              "      border-color: transparent;\n",
              "      border-right-color: var(--fill-color);\n",
              "    }\n",
              "    80% {\n",
              "      border-color: transparent;\n",
              "      border-right-color: var(--fill-color);\n",
              "      border-bottom-color: var(--fill-color);\n",
              "    }\n",
              "    90% {\n",
              "      border-color: transparent;\n",
              "      border-bottom-color: var(--fill-color);\n",
              "    }\n",
              "  }\n",
              "</style>\n",
              "\n",
              "  <script>\n",
              "    async function quickchart(key) {\n",
              "      const quickchartButtonEl =\n",
              "        document.querySelector('#' + key + ' button');\n",
              "      quickchartButtonEl.disabled = true;  // To prevent multiple clicks.\n",
              "      quickchartButtonEl.classList.add('colab-df-spinner');\n",
              "      try {\n",
              "        const charts = await google.colab.kernel.invokeFunction(\n",
              "            'suggestCharts', [key], {});\n",
              "      } catch (error) {\n",
              "        console.error('Error during call to suggestCharts:', error);\n",
              "      }\n",
              "      quickchartButtonEl.classList.remove('colab-df-spinner');\n",
              "      quickchartButtonEl.classList.add('colab-df-quickchart-complete');\n",
              "    }\n",
              "    (() => {\n",
              "      let quickchartButtonEl =\n",
              "        document.querySelector('#df-da96b59f-dc4d-4655-b055-9ddf33a9bd81 button');\n",
              "      quickchartButtonEl.style.display =\n",
              "        google.colab.kernel.accessAllowed ? 'block' : 'none';\n",
              "    })();\n",
              "  </script>\n",
              "</div>\n",
              "    </div>\n",
              "  </div>\n"
            ]
          },
          "metadata": {},
          "execution_count": 12
        }
      ]
    },
    {
      "cell_type": "markdown",
      "source": [
        "The prevalence of these **NaN values** aligns with our **earlier observation** in the **histograms**, where a **majority of users** displayed **limited interactions** with **movies**. This **pattern contributes** to the **substantial count** of **NaN values**, indicating **movies that users haven't engaged with yet**.\n",
        "\n",
        "Interestingly, this is an **anticipated and acceptable** aspect within our dataset, particularly since certain users have **extensively interacted** with a **large number of movies**. These **highly active users** help **balance the impact of the NaN values, enriching our dataset's diversity.**\n",
        "\n",
        "Moreover, **this scenario mirrors real-life behavior** quite accurately. **No individual has viewed every single movie available**; it's a **practical impossibility!** Similarly, our **dataset reflects this reality**, offering a **diverse array of movies** that users have **not yet interacted with**. This diversity presents an opportunity—despite **NaN values—enabling us to recommend a wide range of unexplored movies to respective users.**\n",
        "\n",
        "---\n",
        "Our next task is to obtain **the similarity score** for **each individual user**, and in order to do so, we first need to **replace all the NaN values with zeros.**"
      ],
      "metadata": {
        "id": "sQy9w9RFqlxr"
      }
    },
    {
      "cell_type": "code",
      "source": [
        "# Replace with 0\n",
        "interaction_matrix.fillna(value=0, inplace = True)\n",
        "\n",
        "# Quick confirmation\n",
        "interaction_matrix.head()"
      ],
      "metadata": {
        "colab": {
          "base_uri": "https://localhost:8080/",
          "height": 0
        },
        "id": "NNxP-HflrRuH",
        "outputId": "3f2c17ae-f2d6-4e89-e148-39a25b1a4ded"
      },
      "execution_count": 13,
      "outputs": [
        {
          "output_type": "execute_result",
          "data": {
            "text/plain": [
              "movieId  1       2       3       4       5       6       7       8       \\\n",
              "userId                                                                    \n",
              "1           0.0     0.0     0.0     0.0     0.0     0.0     0.0     0.0   \n",
              "2           0.0     0.0     0.0     0.0     0.0     0.0     0.0     0.0   \n",
              "3           0.0     0.0     0.0     0.0     0.0     0.0     0.0     0.0   \n",
              "4           0.0     0.0     0.0     0.0     0.0     0.0     0.0     0.0   \n",
              "5           0.0     0.0     4.0     0.0     0.0     0.0     0.0     0.0   \n",
              "\n",
              "movieId  9       10      ...  161084  161155  161594  161830  161918  161944  \\\n",
              "userId                   ...                                                   \n",
              "1           0.0     0.0  ...     0.0     0.0     0.0     0.0     0.0     0.0   \n",
              "2           0.0     4.0  ...     0.0     0.0     0.0     0.0     0.0     0.0   \n",
              "3           0.0     0.0  ...     0.0     0.0     0.0     0.0     0.0     0.0   \n",
              "4           0.0     4.0  ...     0.0     0.0     0.0     0.0     0.0     0.0   \n",
              "5           0.0     0.0  ...     0.0     0.0     0.0     0.0     0.0     0.0   \n",
              "\n",
              "movieId  162376  162542  162672  163949  \n",
              "userId                                   \n",
              "1           0.0     0.0     0.0     0.0  \n",
              "2           0.0     0.0     0.0     0.0  \n",
              "3           0.0     0.0     0.0     0.0  \n",
              "4           0.0     0.0     0.0     0.0  \n",
              "5           0.0     0.0     0.0     0.0  \n",
              "\n",
              "[5 rows x 9066 columns]"
            ],
            "text/html": [
              "\n",
              "  <div id=\"df-8f395091-cbb4-4f2f-8977-71983ec6c932\" class=\"colab-df-container\">\n",
              "    <div>\n",
              "<style scoped>\n",
              "    .dataframe tbody tr th:only-of-type {\n",
              "        vertical-align: middle;\n",
              "    }\n",
              "\n",
              "    .dataframe tbody tr th {\n",
              "        vertical-align: top;\n",
              "    }\n",
              "\n",
              "    .dataframe thead th {\n",
              "        text-align: right;\n",
              "    }\n",
              "</style>\n",
              "<table border=\"1\" class=\"dataframe\">\n",
              "  <thead>\n",
              "    <tr style=\"text-align: right;\">\n",
              "      <th>movieId</th>\n",
              "      <th>1</th>\n",
              "      <th>2</th>\n",
              "      <th>3</th>\n",
              "      <th>4</th>\n",
              "      <th>5</th>\n",
              "      <th>6</th>\n",
              "      <th>7</th>\n",
              "      <th>8</th>\n",
              "      <th>9</th>\n",
              "      <th>10</th>\n",
              "      <th>...</th>\n",
              "      <th>161084</th>\n",
              "      <th>161155</th>\n",
              "      <th>161594</th>\n",
              "      <th>161830</th>\n",
              "      <th>161918</th>\n",
              "      <th>161944</th>\n",
              "      <th>162376</th>\n",
              "      <th>162542</th>\n",
              "      <th>162672</th>\n",
              "      <th>163949</th>\n",
              "    </tr>\n",
              "    <tr>\n",
              "      <th>userId</th>\n",
              "      <th></th>\n",
              "      <th></th>\n",
              "      <th></th>\n",
              "      <th></th>\n",
              "      <th></th>\n",
              "      <th></th>\n",
              "      <th></th>\n",
              "      <th></th>\n",
              "      <th></th>\n",
              "      <th></th>\n",
              "      <th></th>\n",
              "      <th></th>\n",
              "      <th></th>\n",
              "      <th></th>\n",
              "      <th></th>\n",
              "      <th></th>\n",
              "      <th></th>\n",
              "      <th></th>\n",
              "      <th></th>\n",
              "      <th></th>\n",
              "      <th></th>\n",
              "    </tr>\n",
              "  </thead>\n",
              "  <tbody>\n",
              "    <tr>\n",
              "      <th>1</th>\n",
              "      <td>0.0</td>\n",
              "      <td>0.0</td>\n",
              "      <td>0.0</td>\n",
              "      <td>0.0</td>\n",
              "      <td>0.0</td>\n",
              "      <td>0.0</td>\n",
              "      <td>0.0</td>\n",
              "      <td>0.0</td>\n",
              "      <td>0.0</td>\n",
              "      <td>0.0</td>\n",
              "      <td>...</td>\n",
              "      <td>0.0</td>\n",
              "      <td>0.0</td>\n",
              "      <td>0.0</td>\n",
              "      <td>0.0</td>\n",
              "      <td>0.0</td>\n",
              "      <td>0.0</td>\n",
              "      <td>0.0</td>\n",
              "      <td>0.0</td>\n",
              "      <td>0.0</td>\n",
              "      <td>0.0</td>\n",
              "    </tr>\n",
              "    <tr>\n",
              "      <th>2</th>\n",
              "      <td>0.0</td>\n",
              "      <td>0.0</td>\n",
              "      <td>0.0</td>\n",
              "      <td>0.0</td>\n",
              "      <td>0.0</td>\n",
              "      <td>0.0</td>\n",
              "      <td>0.0</td>\n",
              "      <td>0.0</td>\n",
              "      <td>0.0</td>\n",
              "      <td>4.0</td>\n",
              "      <td>...</td>\n",
              "      <td>0.0</td>\n",
              "      <td>0.0</td>\n",
              "      <td>0.0</td>\n",
              "      <td>0.0</td>\n",
              "      <td>0.0</td>\n",
              "      <td>0.0</td>\n",
              "      <td>0.0</td>\n",
              "      <td>0.0</td>\n",
              "      <td>0.0</td>\n",
              "      <td>0.0</td>\n",
              "    </tr>\n",
              "    <tr>\n",
              "      <th>3</th>\n",
              "      <td>0.0</td>\n",
              "      <td>0.0</td>\n",
              "      <td>0.0</td>\n",
              "      <td>0.0</td>\n",
              "      <td>0.0</td>\n",
              "      <td>0.0</td>\n",
              "      <td>0.0</td>\n",
              "      <td>0.0</td>\n",
              "      <td>0.0</td>\n",
              "      <td>0.0</td>\n",
              "      <td>...</td>\n",
              "      <td>0.0</td>\n",
              "      <td>0.0</td>\n",
              "      <td>0.0</td>\n",
              "      <td>0.0</td>\n",
              "      <td>0.0</td>\n",
              "      <td>0.0</td>\n",
              "      <td>0.0</td>\n",
              "      <td>0.0</td>\n",
              "      <td>0.0</td>\n",
              "      <td>0.0</td>\n",
              "    </tr>\n",
              "    <tr>\n",
              "      <th>4</th>\n",
              "      <td>0.0</td>\n",
              "      <td>0.0</td>\n",
              "      <td>0.0</td>\n",
              "      <td>0.0</td>\n",
              "      <td>0.0</td>\n",
              "      <td>0.0</td>\n",
              "      <td>0.0</td>\n",
              "      <td>0.0</td>\n",
              "      <td>0.0</td>\n",
              "      <td>4.0</td>\n",
              "      <td>...</td>\n",
              "      <td>0.0</td>\n",
              "      <td>0.0</td>\n",
              "      <td>0.0</td>\n",
              "      <td>0.0</td>\n",
              "      <td>0.0</td>\n",
              "      <td>0.0</td>\n",
              "      <td>0.0</td>\n",
              "      <td>0.0</td>\n",
              "      <td>0.0</td>\n",
              "      <td>0.0</td>\n",
              "    </tr>\n",
              "    <tr>\n",
              "      <th>5</th>\n",
              "      <td>0.0</td>\n",
              "      <td>0.0</td>\n",
              "      <td>4.0</td>\n",
              "      <td>0.0</td>\n",
              "      <td>0.0</td>\n",
              "      <td>0.0</td>\n",
              "      <td>0.0</td>\n",
              "      <td>0.0</td>\n",
              "      <td>0.0</td>\n",
              "      <td>0.0</td>\n",
              "      <td>...</td>\n",
              "      <td>0.0</td>\n",
              "      <td>0.0</td>\n",
              "      <td>0.0</td>\n",
              "      <td>0.0</td>\n",
              "      <td>0.0</td>\n",
              "      <td>0.0</td>\n",
              "      <td>0.0</td>\n",
              "      <td>0.0</td>\n",
              "      <td>0.0</td>\n",
              "      <td>0.0</td>\n",
              "    </tr>\n",
              "  </tbody>\n",
              "</table>\n",
              "<p>5 rows × 9066 columns</p>\n",
              "</div>\n",
              "    <div class=\"colab-df-buttons\">\n",
              "\n",
              "  <div class=\"colab-df-container\">\n",
              "    <button class=\"colab-df-convert\" onclick=\"convertToInteractive('df-8f395091-cbb4-4f2f-8977-71983ec6c932')\"\n",
              "            title=\"Convert this dataframe to an interactive table.\"\n",
              "            style=\"display:none;\">\n",
              "\n",
              "  <svg xmlns=\"http://www.w3.org/2000/svg\" height=\"24px\" viewBox=\"0 -960 960 960\">\n",
              "    <path d=\"M120-120v-720h720v720H120Zm60-500h600v-160H180v160Zm220 220h160v-160H400v160Zm0 220h160v-160H400v160ZM180-400h160v-160H180v160Zm440 0h160v-160H620v160ZM180-180h160v-160H180v160Zm440 0h160v-160H620v160Z\"/>\n",
              "  </svg>\n",
              "    </button>\n",
              "\n",
              "  <style>\n",
              "    .colab-df-container {\n",
              "      display:flex;\n",
              "      gap: 12px;\n",
              "    }\n",
              "\n",
              "    .colab-df-convert {\n",
              "      background-color: #E8F0FE;\n",
              "      border: none;\n",
              "      border-radius: 50%;\n",
              "      cursor: pointer;\n",
              "      display: none;\n",
              "      fill: #1967D2;\n",
              "      height: 32px;\n",
              "      padding: 0 0 0 0;\n",
              "      width: 32px;\n",
              "    }\n",
              "\n",
              "    .colab-df-convert:hover {\n",
              "      background-color: #E2EBFA;\n",
              "      box-shadow: 0px 1px 2px rgba(60, 64, 67, 0.3), 0px 1px 3px 1px rgba(60, 64, 67, 0.15);\n",
              "      fill: #174EA6;\n",
              "    }\n",
              "\n",
              "    .colab-df-buttons div {\n",
              "      margin-bottom: 4px;\n",
              "    }\n",
              "\n",
              "    [theme=dark] .colab-df-convert {\n",
              "      background-color: #3B4455;\n",
              "      fill: #D2E3FC;\n",
              "    }\n",
              "\n",
              "    [theme=dark] .colab-df-convert:hover {\n",
              "      background-color: #434B5C;\n",
              "      box-shadow: 0px 1px 3px 1px rgba(0, 0, 0, 0.15);\n",
              "      filter: drop-shadow(0px 1px 2px rgba(0, 0, 0, 0.3));\n",
              "      fill: #FFFFFF;\n",
              "    }\n",
              "  </style>\n",
              "\n",
              "    <script>\n",
              "      const buttonEl =\n",
              "        document.querySelector('#df-8f395091-cbb4-4f2f-8977-71983ec6c932 button.colab-df-convert');\n",
              "      buttonEl.style.display =\n",
              "        google.colab.kernel.accessAllowed ? 'block' : 'none';\n",
              "\n",
              "      async function convertToInteractive(key) {\n",
              "        const element = document.querySelector('#df-8f395091-cbb4-4f2f-8977-71983ec6c932');\n",
              "        const dataTable =\n",
              "          await google.colab.kernel.invokeFunction('convertToInteractive',\n",
              "                                                    [key], {});\n",
              "        if (!dataTable) return;\n",
              "\n",
              "        const docLinkHtml = 'Like what you see? Visit the ' +\n",
              "          '<a target=\"_blank\" href=https://colab.research.google.com/notebooks/data_table.ipynb>data table notebook</a>'\n",
              "          + ' to learn more about interactive tables.';\n",
              "        element.innerHTML = '';\n",
              "        dataTable['output_type'] = 'display_data';\n",
              "        await google.colab.output.renderOutput(dataTable, element);\n",
              "        const docLink = document.createElement('div');\n",
              "        docLink.innerHTML = docLinkHtml;\n",
              "        element.appendChild(docLink);\n",
              "      }\n",
              "    </script>\n",
              "  </div>\n",
              "\n",
              "\n",
              "<div id=\"df-3d519bbe-abec-4536-8115-07e14acead23\">\n",
              "  <button class=\"colab-df-quickchart\" onclick=\"quickchart('df-3d519bbe-abec-4536-8115-07e14acead23')\"\n",
              "            title=\"Suggest charts\"\n",
              "            style=\"display:none;\">\n",
              "\n",
              "<svg xmlns=\"http://www.w3.org/2000/svg\" height=\"24px\"viewBox=\"0 0 24 24\"\n",
              "     width=\"24px\">\n",
              "    <g>\n",
              "        <path d=\"M19 3H5c-1.1 0-2 .9-2 2v14c0 1.1.9 2 2 2h14c1.1 0 2-.9 2-2V5c0-1.1-.9-2-2-2zM9 17H7v-7h2v7zm4 0h-2V7h2v10zm4 0h-2v-4h2v4z\"/>\n",
              "    </g>\n",
              "</svg>\n",
              "  </button>\n",
              "\n",
              "<style>\n",
              "  .colab-df-quickchart {\n",
              "      --bg-color: #E8F0FE;\n",
              "      --fill-color: #1967D2;\n",
              "      --hover-bg-color: #E2EBFA;\n",
              "      --hover-fill-color: #174EA6;\n",
              "      --disabled-fill-color: #AAA;\n",
              "      --disabled-bg-color: #DDD;\n",
              "  }\n",
              "\n",
              "  [theme=dark] .colab-df-quickchart {\n",
              "      --bg-color: #3B4455;\n",
              "      --fill-color: #D2E3FC;\n",
              "      --hover-bg-color: #434B5C;\n",
              "      --hover-fill-color: #FFFFFF;\n",
              "      --disabled-bg-color: #3B4455;\n",
              "      --disabled-fill-color: #666;\n",
              "  }\n",
              "\n",
              "  .colab-df-quickchart {\n",
              "    background-color: var(--bg-color);\n",
              "    border: none;\n",
              "    border-radius: 50%;\n",
              "    cursor: pointer;\n",
              "    display: none;\n",
              "    fill: var(--fill-color);\n",
              "    height: 32px;\n",
              "    padding: 0;\n",
              "    width: 32px;\n",
              "  }\n",
              "\n",
              "  .colab-df-quickchart:hover {\n",
              "    background-color: var(--hover-bg-color);\n",
              "    box-shadow: 0 1px 2px rgba(60, 64, 67, 0.3), 0 1px 3px 1px rgba(60, 64, 67, 0.15);\n",
              "    fill: var(--button-hover-fill-color);\n",
              "  }\n",
              "\n",
              "  .colab-df-quickchart-complete:disabled,\n",
              "  .colab-df-quickchart-complete:disabled:hover {\n",
              "    background-color: var(--disabled-bg-color);\n",
              "    fill: var(--disabled-fill-color);\n",
              "    box-shadow: none;\n",
              "  }\n",
              "\n",
              "  .colab-df-spinner {\n",
              "    border: 2px solid var(--fill-color);\n",
              "    border-color: transparent;\n",
              "    border-bottom-color: var(--fill-color);\n",
              "    animation:\n",
              "      spin 1s steps(1) infinite;\n",
              "  }\n",
              "\n",
              "  @keyframes spin {\n",
              "    0% {\n",
              "      border-color: transparent;\n",
              "      border-bottom-color: var(--fill-color);\n",
              "      border-left-color: var(--fill-color);\n",
              "    }\n",
              "    20% {\n",
              "      border-color: transparent;\n",
              "      border-left-color: var(--fill-color);\n",
              "      border-top-color: var(--fill-color);\n",
              "    }\n",
              "    30% {\n",
              "      border-color: transparent;\n",
              "      border-left-color: var(--fill-color);\n",
              "      border-top-color: var(--fill-color);\n",
              "      border-right-color: var(--fill-color);\n",
              "    }\n",
              "    40% {\n",
              "      border-color: transparent;\n",
              "      border-right-color: var(--fill-color);\n",
              "      border-top-color: var(--fill-color);\n",
              "    }\n",
              "    60% {\n",
              "      border-color: transparent;\n",
              "      border-right-color: var(--fill-color);\n",
              "    }\n",
              "    80% {\n",
              "      border-color: transparent;\n",
              "      border-right-color: var(--fill-color);\n",
              "      border-bottom-color: var(--fill-color);\n",
              "    }\n",
              "    90% {\n",
              "      border-color: transparent;\n",
              "      border-bottom-color: var(--fill-color);\n",
              "    }\n",
              "  }\n",
              "</style>\n",
              "\n",
              "  <script>\n",
              "    async function quickchart(key) {\n",
              "      const quickchartButtonEl =\n",
              "        document.querySelector('#' + key + ' button');\n",
              "      quickchartButtonEl.disabled = true;  // To prevent multiple clicks.\n",
              "      quickchartButtonEl.classList.add('colab-df-spinner');\n",
              "      try {\n",
              "        const charts = await google.colab.kernel.invokeFunction(\n",
              "            'suggestCharts', [key], {});\n",
              "      } catch (error) {\n",
              "        console.error('Error during call to suggestCharts:', error);\n",
              "      }\n",
              "      quickchartButtonEl.classList.remove('colab-df-spinner');\n",
              "      quickchartButtonEl.classList.add('colab-df-quickchart-complete');\n",
              "    }\n",
              "    (() => {\n",
              "      let quickchartButtonEl =\n",
              "        document.querySelector('#df-3d519bbe-abec-4536-8115-07e14acead23 button');\n",
              "      quickchartButtonEl.style.display =\n",
              "        google.colab.kernel.accessAllowed ? 'block' : 'none';\n",
              "    })();\n",
              "  </script>\n",
              "</div>\n",
              "    </div>\n",
              "  </div>\n"
            ]
          },
          "metadata": {},
          "execution_count": 13
        }
      ]
    },
    {
      "cell_type": "markdown",
      "source": [
        "# **Cosine Similarity 💯**"
      ],
      "metadata": {
        "id": "byVF6I65sUNT"
      }
    },
    {
      "cell_type": "markdown",
      "source": [
        "**Cosine similarity** is a metric used to measure the **similarity between two vectors**, typically in a **high-dimensional space**. It calculates **the cosine** of the **angle between these vectors**, indicating how **closely they align in direction**, regardless of their **magnitude**.\n",
        "\n",
        "Mathematically, the cosine similarity between two vectors $A$ and $B$ can be represented as:"
      ],
      "metadata": {
        "id": "ypCKyQzxsWrU"
      }
    },
    {
      "cell_type": "markdown",
      "source": [
        "![image.png](data:image/png;base64,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)"
      ],
      "metadata": {
        "id": "GikV7cjQstdd"
      }
    },
    {
      "cell_type": "markdown",
      "source": [
        "Where:\n",
        "- $A • B$ denotes the dot product of vectors $A$ and $B$.\n",
        "- $|A|$ and $|B|$ represent the **Euclidean norms** (or magnitudes) of vectors $A$ and $B$ respectively.\n",
        "\n",
        "The **cosine similarity** value ranges between $-1$ and $1$:\n",
        "- **1** indicates that the vectors have the same direction.\n",
        "- **0** implies orthogonality (the vectors are perpendicular).\n",
        "- **-1** signifies completely opposite directions."
      ],
      "metadata": {
        "id": "fuSd_LoLswk6"
      }
    },
    {
      "cell_type": "markdown",
      "source": [
        "![image.png](data:image/png;base64,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)"
      ],
      "metadata": {
        "id": "9A_xljuuteJK"
      }
    },
    {
      "cell_type": "markdown",
      "source": [
        "Read more here: [Cosine Similarity](https://towardsdatascience.com/cosine-similarity-how-does-it-measure-the-similarity-maths-behind-and-usage-in-python-50ad30aad7db)"
      ],
      "metadata": {
        "id": "_ScA3biCtgVi"
      }
    },
    {
      "cell_type": "code",
      "source": [
        "def similarity_score(user_id, interaction_matrix=interaction_matrix, k=5):\n",
        "    \"\"\"\n",
        "    Calculate the top-k most similar users to the given user_id based on cosine similarity.\n",
        "\n",
        "    Parameters:\n",
        "    - user_id: The ID of the user for whom similarity scores are calculated.\n",
        "    - interaction_matrix: The matrix containing user-item interactions.\n",
        "    - k: Number of similar users to retrieve (default is 5).\n",
        "\n",
        "    Returns:\n",
        "    - List of tuples containing user IDs and their corresponding cosine similarity scores.\n",
        "    \"\"\"\n",
        "\n",
        "    # Compute the similarity of the current user with the rest of the users.\n",
        "    similarities = [\n",
        "        (\n",
        "            user,\n",
        "            cosine_similarity(\n",
        "                [interaction_matrix.loc[user_id]],\n",
        "                [interaction_matrix.loc[user]]\n",
        "            )\n",
        "        )\n",
        "        for user in range(1, interaction_matrix.shape[0] + 1) if user != user_id\n",
        "    ]\n",
        "\n",
        "    # Sort based on the similarities\n",
        "    similarities.sort(key=lambda x: x[1], reverse=True)\n",
        "\n",
        "    # Seperate users and similarity scores\n",
        "    similar_users = [sim[0] for sim in similarities[:k]]\n",
        "    users_scores = [sim[1] for sim in similarities[:k]]\n",
        "\n",
        "    return similar_users, users_scores\n"
      ],
      "metadata": {
        "id": "I1KG5dTAr68Z"
      },
      "execution_count": 35,
      "outputs": []
    },
    {
      "cell_type": "code",
      "source": [
        "# Users similar to the user id = 10.\n",
        "similarity_score(10)"
      ],
      "metadata": {
        "colab": {
          "base_uri": "https://localhost:8080/"
        },
        "id": "XwjuJ4b6vrFp",
        "outputId": "0bd4cd31-6237-4ae3-da6f-a1ed595dbef7"
      },
      "execution_count": 38,
      "outputs": [
        {
          "output_type": "execute_result",
          "data": {
            "text/plain": [
              "([271, 155, 206, 562, 550],\n",
              " [array([[0.26278749]]),\n",
              "  array([[0.21706255]]),\n",
              "  array([[0.20979643]]),\n",
              "  array([[0.2058145]]),\n",
              "  array([[0.20419486]])])"
            ]
          },
          "metadata": {},
          "execution_count": 38
        }
      ]
    },
    {
      "cell_type": "markdown",
      "source": [
        "This tells us that for the **user id = 10** the **most similar** user is to **271** with a **score of 0.26.**"
      ],
      "metadata": {
        "id": "w6TUSStNxANi"
      }
    },
    {
      "cell_type": "markdown",
      "source": [
        "# **Recommendations 🎬**"
      ],
      "metadata": {
        "id": "YftDvIhAxSQY"
      }
    },
    {
      "cell_type": "markdown",
      "source": [
        "We now have the **function to compute the similarities**. So now we can **create a function** that can provide the **recommendations to a specific user**."
      ],
      "metadata": {
        "id": "MFGr-KS9xaEO"
      }
    },
    {
      "cell_type": "code",
      "source": [
        "def recommendations(user_id, n_recommendations=5, interaction_matrix=interaction_matrix):\n",
        "    \"\"\"\n",
        "    Generate movie recommendations for a given user based on collaborative filtering.\n",
        "\n",
        "    Parameters:\n",
        "    - user_id: The ID of the user for whom recommendations are generated.\n",
        "    - n_recommendations: Number of recommendations to provide (default is 5).\n",
        "    - interaction_matrix: The matrix containing user-item interactions.\n",
        "\n",
        "    Returns:\n",
        "    - List of movie IDs recommended for the user.\n",
        "    \"\"\"\n",
        "\n",
        "    # Retrieve the most similar users based on cosine similarity\n",
        "    most_similar_users = [user for user, _ in similarity_score(user_id, k=20)]\n",
        "\n",
        "    # Obtain movie IDs that the user has already interacted with\n",
        "    movie_ids = set(interaction_matrix.columns[interaction_matrix.loc[user_id] > 0])\n",
        "\n",
        "    recommendations = []\n",
        "    already_seen = set()\n",
        "\n",
        "    for user in most_similar_users:\n",
        "        if len(recommendations) >= n_recommendations:\n",
        "            break\n",
        "\n",
        "        if user != user_id:\n",
        "            # Fetch movie IDs of the similar user\n",
        "            similar_user_movie_ids = set(interaction_matrix.columns[interaction_matrix.loc[user] > 0])\n",
        "\n",
        "            # Add unique movies the user hasn't seen to recommendations\n",
        "            new_recommendations = similar_user_movie_ids - movie_ids - already_seen\n",
        "            recommendations.extend(new_recommendations)\n",
        "            already_seen.update(new_recommendations)\n",
        "\n",
        "    return list(recommendations)[:n_recommendations]\n"
      ],
      "metadata": {
        "id": "SlLsY1XRwH6h"
      },
      "execution_count": 46,
      "outputs": []
    },
    {
      "cell_type": "code",
      "source": [
        "# Get the recomendation for user id = 10\n",
        "recomendations(564)"
      ],
      "metadata": {
        "colab": {
          "base_uri": "https://localhost:8080/"
        },
        "id": "Hd8obmJv1dct",
        "outputId": "180a781e-d09e-4eb4-fe2d-c07248ed6766"
      },
      "execution_count": 47,
      "outputs": [
        {
          "output_type": "execute_result",
          "data": {
            "text/plain": [
              "[1537, 515, 1027, 2565, 524]"
            ]
          },
          "metadata": {},
          "execution_count": 47
        }
      ]
    },
    {
      "cell_type": "code",
      "source": [
        "recomendations(671)"
      ],
      "metadata": {
        "colab": {
          "base_uri": "https://localhost:8080/"
        },
        "id": "nKCPmcvk4KD5",
        "outputId": "ec473bb6-240d-422f-9e45-8f9515e4f46a"
      },
      "execution_count": 49,
      "outputs": [
        {
          "output_type": "execute_result",
          "data": {
            "text/plain": [
              "[1028, 4102, 1032, 3081, 3593]"
            ]
          },
          "metadata": {},
          "execution_count": 49
        }
      ]
    },
    {
      "cell_type": "markdown",
      "source": [
        "Behold, behold! Here are the **recommendations** tailored for **User ID 564**, carefully curated using the **similarity-based Collaborative Filtering method**. This snippet presents **five recommendations**, meticulously crafted from **user interactions** and **preferences**.\n",
        "\n",
        "But wait, the power of **collaborative filtering doesn't stop here!** Merge this approach with another user—let's say **User ID 671—and witness the magic of expanding recommendations across diverse user tastes.**\n",
        "\n",
        "However, amidst its prowess, **Collaborative Filtering** has its **quirks and limitations**, occasionally stumbling upon **corner cases** that challenge its **accuracy**. These cases might emerge in scenarios where **users exhibit unique or outlier preferences**, affecting the **system's ability to predict recommendations accurately.**\n",
        "\n",
        "Nonetheless, leveraging its strengths while being mindful of these **edge cases** is key to harnessing the **true potential of similarity-based Collaborative Filtering.**\n",
        "\n",
        "---\n",
        "\n",
        "A **notable corner case** arises when a **new user steps** into the **system**, devoid of **any interaction history**. In this scenario, the **absence of prior data** poses a challenge for traditional **Collaborative Filtering** approaches reliant on **user-item interactions**. To tackle this, an **astute recommendation strategy emerges**: a warm welcome through the top **three recommended movies**."
      ],
      "metadata": {
        "id": "YDcAUGaQ3zHg"
      }
    },
    {
      "cell_type": "code",
      "source": [
        "df.movieId.value_counts()[:3]"
      ],
      "metadata": {
        "colab": {
          "base_uri": "https://localhost:8080/"
        },
        "id": "sEXLVcN120xb",
        "outputId": "7ba516b6-d288-43a7-f52f-14741c486b98"
      },
      "execution_count": 50,
      "outputs": [
        {
          "output_type": "execute_result",
          "data": {
            "text/plain": [
              "356    341\n",
              "296    324\n",
              "318    311\n",
              "Name: movieId, dtype: int64"
            ]
          },
          "metadata": {},
          "execution_count": 50
        }
      ]
    },
    {
      "cell_type": "markdown",
      "source": [
        "In this case, **the top three movies** are **356, 296 and 318.**\n",
        "\n",
        "---\n",
        "**DeepNets**"
      ],
      "metadata": {
        "id": "lBv-V5mM5t1p"
      }
    }
  ]
}